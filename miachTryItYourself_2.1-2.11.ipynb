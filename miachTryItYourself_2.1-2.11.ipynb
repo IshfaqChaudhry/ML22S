{
 "cells": [
  {
   "cell_type": "code",
   "execution_count": 2,
   "metadata": {},
   "outputs": [
    {
     "name": "stdout",
     "output_type": "stream",
     "text": [
      "Learning Python is a fun!\n"
     ]
    }
   ],
   "source": [
    "# 2-1 Simple Message:\n",
    "simple_message = \"Learning Python is a fun!\"\n",
    "print(simple_message)"
   ]
  },
  {
   "cell_type": "code",
   "execution_count": 3,
   "metadata": {},
   "outputs": [
    {
     "name": "stdout",
     "output_type": "stream",
     "text": [
      "Learning Python is a fun!\n",
      "And I'm enoying this fun.\n"
     ]
    }
   ],
   "source": [
    "# 2-2 Simple Messages:\n",
    "\n",
    "simple_message = \"Learning Python is a fun!\"\n",
    "print(simple_message)\n",
    "\n",
    "simple_message = \"And I'm enoying this fun.\"\n",
    "print(simple_message)"
   ]
  },
  {
   "cell_type": "code",
   "execution_count": 4,
   "metadata": {},
   "outputs": [
    {
     "name": "stdout",
     "output_type": "stream",
     "text": [
      "Hello Sir Hassan, would you like to teach me Python?\n"
     ]
    }
   ],
   "source": [
    "# 2-3 Personal Message:\n",
    "\n",
    "sir_jee = \"Sir Hassan,\"\n",
    "print(\"Hello \" + sir_jee + \" would you like to teach me Python?\")\n"
   ]
  },
  {
   "cell_type": "code",
   "execution_count": 5,
   "metadata": {},
   "outputs": [
    {
     "name": "stdout",
     "output_type": "stream",
     "text": [
      "hafiz muhammad shan shubraiz\n",
      "HAFIZ MUHAMMAD SHAN SHUBRAIZ\n",
      "Hafiz Muhammad Shan Shubraiz\n"
     ]
    }
   ],
   "source": [
    "# 2-4 Name Cases:\n",
    "\n",
    "Name = \"Hafiz muhammad shan shubraiz\"\n",
    "print(Name.lower())\n",
    "print(Name.upper())\n",
    "print(Name.title())\n"
   ]
  },
  {
   "cell_type": "code",
   "execution_count": 6,
   "metadata": {},
   "outputs": [
    {
     "name": "stdout",
     "output_type": "stream",
     "text": [
      " Nelson Mandela once said,\n",
      "\"The greatest glory in living lies not in never falling, but in rising every time we fall.\"\n"
     ]
    }
   ],
   "source": [
    "# 2-5 Famous Quote1:\n",
    "\n",
    "famous_quote = ''' Nelson Mandela once said,\n",
    "\"The greatest glory in living lies not in never falling, but in rising every time we fall.\"'''\n",
    "print(famous_quote)\n"
   ]
  },
  {
   "cell_type": "code",
   "execution_count": 7,
   "metadata": {},
   "outputs": [
    {
     "name": "stdout",
     "output_type": "stream",
     "text": [
      "Nelson Mandela once said \"It always seems impossible until it's done.\"\n"
     ]
    }
   ],
   "source": [
    "# 2-6 Famous Quote2:\n",
    "\n",
    "famous_person = \"Nelson Mandela\"\n",
    "famous_quote = '''\"It always seems impossible until it's done.\"'''\n",
    "print(famous_person + \" once said \" + famous_quote)"
   ]
  },
  {
   "cell_type": "code",
   "execution_count": 67,
   "metadata": {},
   "outputs": [
    {
     "name": "stdout",
     "output_type": "stream",
     "text": [
      "Ishfaq Chaudhry\n",
      "\t Ishfaq Chaudhry\n",
      "Ishfaq Chaudhry \n",
      "\n",
      "\t Ishfaq Chaudhry \n",
      "\n",
      "  Ishfaq Chaudhry   \n",
      "Ishfaq Chaudhry   \n",
      "  Ishfaq Chaudhry\n",
      "Ishfaq Chaudhry\n"
     ]
    }
   ],
   "source": [
    "# 2-7 Stripping Names:\n",
    "\n",
    "name = \"\\t Ishfaq Chaudhry \\n\"\n",
    "print(name.strip())\n",
    "print(name.rstrip())\n",
    "print(name.lstrip())\n",
    "print(name)\n",
    "\n",
    "name = \"  Ishfaq Chaudhry   \"\n",
    "print(name)\n",
    "print(name.lstrip())\n",
    "print(name.rstrip())\n",
    "print(name.strip())"
   ]
  },
  {
   "cell_type": "code",
   "execution_count": 71,
   "metadata": {},
   "outputs": [
    {
     "name": "stdout",
     "output_type": "stream",
     "text": [
      "8\n",
      "8\n",
      "8\n",
      "8\n"
     ]
    }
   ],
   "source": [
    "# 2-8 Number Eight:\n",
    "\n",
    "print(6+2)\n",
    "print(9-1)\n",
    "print(2*4)\n",
    "print(16//2)"
   ]
  },
  {
   "cell_type": "code",
   "execution_count": 76,
   "metadata": {},
   "outputs": [
    {
     "name": "stdout",
     "output_type": "stream",
     "text": [
      "My favorite number is 123\n"
     ]
    }
   ],
   "source": [
    "# 2-9 Favorite Number:\n",
    "\n",
    "favorite_number = 123\n",
    "print(\"My favorite number is \" + str(favorite_number)) "
   ]
  },
  {
   "cell_type": "code",
   "execution_count": 78,
   "metadata": {},
   "outputs": [
    {
     "name": "stdout",
     "output_type": "stream",
     "text": [
      "8\n",
      "8\n",
      "8\n",
      "8\n",
      "My favorite number is 123\n"
     ]
    }
   ],
   "source": [
    "# 2-10 Adding Comments:\n",
    "\n",
    "# Program 01\n",
    "print(6+2)      # addition\n",
    "print(9-1)      # subtraction\n",
    "print(2*4)      # multiplication\n",
    "print(16//2)    # division\n",
    "\n",
    "#Program 02\n",
    "favorite_number = 123\n",
    "print(\"My favorite number is \" + str(favorite_number))\n",
    "# in the above line I cast an integer into a string"
   ]
  },
  {
   "cell_type": "code",
   "execution_count": 79,
   "metadata": {},
   "outputs": [
    {
     "name": "stdout",
     "output_type": "stream",
     "text": [
      "The Zen of Python, by Tim Peters\n",
      "\n",
      "Beautiful is better than ugly.\n",
      "Explicit is better than implicit.\n",
      "Simple is better than complex.\n",
      "Complex is better than complicated.\n",
      "Flat is better than nested.\n",
      "Sparse is better than dense.\n",
      "Readability counts.\n",
      "Special cases aren't special enough to break the rules.\n",
      "Although practicality beats purity.\n",
      "Errors should never pass silently.\n",
      "Unless explicitly silenced.\n",
      "In the face of ambiguity, refuse the temptation to guess.\n",
      "There should be one-- and preferably only one --obvious way to do it.\n",
      "Although that way may not be obvious at first unless you're Dutch.\n",
      "Now is better than never.\n",
      "Although never is often better than *right* now.\n",
      "If the implementation is hard to explain, it's a bad idea.\n",
      "If the implementation is easy to explain, it may be a good idea.\n",
      "Namespaces are one honking great idea -- let's do more of those!\n"
     ]
    }
   ],
   "source": [
    "# 2-11 Zen of Python:\n",
    "\n",
    "import this"
   ]
  }
 ],
 "metadata": {
  "interpreter": {
   "hash": "a72a9fb4134b7c1c2c6a4536cd9cc4da5924712ec537f25e48027c426fa4d32e"
  },
  "kernelspec": {
   "display_name": "Python 3.10.0 64-bit",
   "language": "python",
   "name": "python3"
  },
  "language_info": {
   "codemirror_mode": {
    "name": "ipython",
    "version": 3
   },
   "file_extension": ".py",
   "mimetype": "text/x-python",
   "name": "python",
   "nbconvert_exporter": "python",
   "pygments_lexer": "ipython3",
   "version": "3.10.0"
  },
  "orig_nbformat": 4
 },
 "nbformat": 4,
 "nbformat_minor": 2
}
