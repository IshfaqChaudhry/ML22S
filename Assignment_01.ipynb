{
 "cells": [
  {
   "cell_type": "code",
   "execution_count": 13,
   "metadata": {},
   "outputs": [],
   "source": [
    "# Start Task 1:"
   ]
  },
  {
   "cell_type": "code",
   "execution_count": null,
   "metadata": {},
   "outputs": [],
   "source": [
    "# Task 1: Lists\n",
    "\n",
    "nums = [3, 4, 7, 8, 15]\n",
    "print(\"nums = \", nums)\n",
    "\n",
    "cubes = [(i**3) for i in nums]\n",
    "print(\"cubes =\", cubes)\n",
    "\n",
    "nums.append(cubes)\n",
    "print(\"appended_List =\", nums)"
   ]
  },
  {
   "cell_type": "code",
   "execution_count": null,
   "metadata": {},
   "outputs": [],
   "source": [
    "# Task 1: Dictionaries\n",
    "\n",
    "dic = {}\n",
    "print(dic)\n",
    "\n",
    "dic[\"person\"] = 2\n",
    "dic[\"cat\"] = 4\n",
    "dic[\"spider\"] = 8\n",
    "dic[\"horse\"] = 2\n",
    "\n",
    "for key, value in dic.items():\n",
    "   print(\"\\nAnimal:\", key, \"\\n  legs:\", value)\n",
    "\n",
    "print(\"\\nTotal number of legs are:\", sum(dic.values()))"
   ]
  },
  {
   "cell_type": "code",
   "execution_count": null,
   "metadata": {},
   "outputs": [],
   "source": [
    "# Task 1: Tuples\n",
    "\n",
    "D = (1,15,4,[5,10])\n",
    "print(D)\n",
    "D = (1,15,4,[5,10])\n",
    "D1 = list(D)\n",
    "D1[3] = [3,10]\n",
    "D = tuple(D1)\n",
    "print(D)\n",
    "del D\n",
    "print(D)"
   ]
  },
  {
   "cell_type": "code",
   "execution_count": null,
   "metadata": {},
   "outputs": [],
   "source": [
    "# Task 1: Tuples\n",
    "\n",
    "E = ('a','p','p','l','e')\n",
    "\n",
    "p = E.count('p')\n",
    "print(\"The number of occurences of 'p' in tuple E is\", p ,\"times.\")\n",
    "\n",
    "l = E.index('l')\n",
    "print(\"The index of 'l' in tuple E is\", l)"
   ]
  },
  {
   "cell_type": "code",
   "execution_count": null,
   "metadata": {},
   "outputs": [],
   "source": [
    "# End Task 1:"
   ]
  },
  {
   "cell_type": "code",
   "execution_count": 17,
   "metadata": {},
   "outputs": [],
   "source": [
    "# Start Task 2:\n",
    "\n",
    "import numpy as np"
   ]
  },
  {
   "cell_type": "code",
   "execution_count": null,
   "metadata": {},
   "outputs": [],
   "source": [
    "# Convert matrix M into numpy array\n",
    "\n",
    "M = np.array([[1, 2, 3, 4],[5, 6, 7, 8],[9, 10,11, 12]])\n",
    "M"
   ]
  },
  {
   "cell_type": "code",
   "execution_count": null,
   "metadata": {},
   "outputs": [],
   "source": [
    "# Use slicing to pull out the subarray consisting of the first 2 rows and columns 1 and 2.\n",
    "# Store it in b which is a numpy array of shape (2, 2)\n",
    "\n",
    "b = M[:2, :2]\n",
    "b"
   ]
  },
  {
   "cell_type": "code",
   "execution_count": null,
   "metadata": {},
   "outputs": [],
   "source": [
    "# Create an empty matrix ‘y’ with the same shape as ‘M’\n",
    "\n",
    "y = np.empty((M.shape))\n",
    "y"
   ]
  },
  {
   "cell_type": "code",
   "execution_count": null,
   "metadata": {},
   "outputs": [],
   "source": [
    "# Add the vector z to each column of the matrix M with an explicit loop and store it in y.\n",
    "\n",
    "z = np.array([1, 0, 1])\n",
    "\n",
    "y = np.empty_like(M)\n",
    "\n",
    "for i in range(4):\n",
    "    y[: ,i] = M[:,i] + z\n",
    "y"
   ]
  },
  {
   "cell_type": "code",
   "execution_count": 23,
   "metadata": {},
   "outputs": [],
   "source": [
    "# Given:\n",
    "\n",
    "A = np.array([[1,2],[3,4]])\n",
    "B = np.array([[5,6],[7,8]])\n",
    "v = np.array([9,10])"
   ]
  },
  {
   "cell_type": "code",
   "execution_count": null,
   "metadata": {},
   "outputs": [],
   "source": [
    "# Add the two matrices A and B\n",
    "A + B"
   ]
  },
  {
   "cell_type": "code",
   "execution_count": null,
   "metadata": {},
   "outputs": [],
   "source": [
    "# Multiply the two matrices A and B\n",
    "A * B"
   ]
  },
  {
   "cell_type": "code",
   "execution_count": null,
   "metadata": {},
   "outputs": [],
   "source": [
    "# The element wise square root of matrix A\n",
    "np.sqrt(A)"
   ]
  },
  {
   "cell_type": "code",
   "execution_count": null,
   "metadata": {},
   "outputs": [],
   "source": [
    "# The dot product of the matrix A and vector v\n",
    "np.dot(A, v)"
   ]
  },
  {
   "cell_type": "code",
   "execution_count": null,
   "metadata": {},
   "outputs": [],
   "source": [
    "# Compute sum of each column of A\n",
    "\n",
    "for i in range(2):\n",
    "    print(sum (A[:,i]))"
   ]
  },
  {
   "cell_type": "code",
   "execution_count": null,
   "metadata": {},
   "outputs": [],
   "source": [
    "# Print the transpose of B\n",
    "\n",
    "print(B.T)"
   ]
  },
  {
   "cell_type": "code",
   "execution_count": 30,
   "metadata": {},
   "outputs": [],
   "source": [
    "# End Task 2:"
   ]
  },
  {
   "cell_type": "code",
   "execution_count": 31,
   "metadata": {},
   "outputs": [],
   "source": [
    "# Start Task 3:"
   ]
  },
  {
   "cell_type": "code",
   "execution_count": null,
   "metadata": {},
   "outputs": [],
   "source": [
    "# Functions\n",
    "\n",
    "# Declare a function 'Compute' that takes two arguments: distance and time, and use it to calculate velocity.\n",
    "\n",
    "def Compute(distance, time):\n",
    "    velocity = distance / time\n",
    "    return velocity\n",
    "\n",
    "# If a cars cover 250 meter in 20 second then calculate the velocity of the car.\n",
    "# Here:  Distance = 250 m  and  Time = 20 s\n",
    "\n",
    "print(\"The velocity is\", Compute(250, 20), \"m/s\")"
   ]
  },
  {
   "cell_type": "code",
   "execution_count": null,
   "metadata": {},
   "outputs": [],
   "source": [
    "# Forloop\n",
    "\n",
    "# Declare a list 'even' that contains all even numbers up till 16.\n",
    "\n",
    "even = [0,2,4,6,8,10,12,14,16]\n",
    "\n",
    "# Declare a function sum that takes the list as an argument and calculates the sum of all entries using a for loop.\n",
    "\n",
    "def sum(even):\n",
    "    total = 0\n",
    "    for num in even:\n",
    "        total += num\n",
    "    return total\n",
    "\n",
    "sum(even)"
   ]
  },
  {
   "cell_type": "code",
   "execution_count": 34,
   "metadata": {},
   "outputs": [],
   "source": [
    "# End Task 3:"
   ]
  },
  {
   "cell_type": "code",
   "execution_count": 35,
   "metadata": {},
   "outputs": [],
   "source": [
    "# Start Task 4:"
   ]
  },
  {
   "cell_type": "code",
   "execution_count": null,
   "metadata": {},
   "outputs": [],
   "source": [
    "#  *** Plotting a Single Line: ***\n",
    "\n",
    "# Compute the x and y coordinates for points on a sine curve and plot the points using matplotlib\n",
    "\n",
    "import numpy as np\n",
    "import matplotlib.pyplot as plt\n",
    "\n",
    "x = np.arange(0,3*np.pi,0.1)\n",
    "y = np.sin(x)\n",
    "\n",
    "plt.plot(x, y)\n",
    "\n",
    "plt.show()"
   ]
  },
  {
   "cell_type": "code",
   "execution_count": null,
   "metadata": {},
   "outputs": [],
   "source": [
    "#  *** Plotting Multiple Lines: ***\n",
    "\n",
    "# Compute the x and y coordinates for points on sine and cosine curves\n",
    "# and plot them on the same graph using matplotlib.\n",
    "# Add x and y labels to the graph as well.\n",
    "\n",
    "x = np.arange(0, 3*np.pi, 0.1)\n",
    "y_sin = np.sin(x)\n",
    "y_cos = np.cos(x)\n",
    "\n",
    "plt.plot(x, y_sin)\n",
    "plt.plot(x, y_cos)\n",
    "\n",
    "plt.xlabel(\"x-axis\")\n",
    "plt.ylabel(\"y-axis\")\n",
    "plt.legend([\"sine\", \"cosine\"])\n",
    "\n",
    "plt.show()"
   ]
  },
  {
   "cell_type": "code",
   "execution_count": null,
   "metadata": {},
   "outputs": [],
   "source": [
    "#  *** Plotting Subplots: ***\n",
    "\n",
    "# Compute the x and y coordinates for points on sine and cosine curves.\n",
    "# Set up a subplot grid that has height 2 and width 1,\n",
    "# and set the first such subplot as active.\n",
    "# Plot the sine and cosine graphs.\n",
    "\n",
    "x = np.arange(0, 3*np.pi, 0.1)\n",
    "y_sin = np.sin(x)\n",
    "y_cos = np.cos(x)\n",
    "\n",
    "plt.subplot(2, 1, 1)\n",
    "plt.plot(x, y_sin)\n",
    "plt.title(\"sine\")\n",
    "\n",
    "plt.subplot(2, 1, 2)\n",
    "plt.plot(x, y_cos)\n",
    "plt.title(\"cosine\")\n",
    "\n",
    "plt.show()"
   ]
  },
  {
   "cell_type": "code",
   "execution_count": 40,
   "metadata": {},
   "outputs": [],
   "source": [
    "# End Task 4:"
   ]
  },
  {
   "cell_type": "code",
   "execution_count": 41,
   "metadata": {},
   "outputs": [],
   "source": [
    "# Start Task 5:"
   ]
  },
  {
   "cell_type": "code",
   "execution_count": null,
   "metadata": {},
   "outputs": [],
   "source": [
    "#   *** Making a DataFrame: ***\n",
    "\n",
    "import pandas as pd\n",
    "\n",
    "# Create a dataframe pd that contains 5 rows and 4 columns, similar to the one given below:\n",
    "\n",
    "data = {\"Col1\":[1, 2, 3, 4, 5],\n",
    "        \"Col2\":[6, 7, 5, 5, 8],\n",
    "        \"Col3\":[7, 78, 78, 18, 88],\n",
    "        \"Col4\":[7, 5, 707, 60, 4],\n",
    "       }\n",
    "       \n",
    "df = pd.DataFrame(data)\n",
    "print(df)"
   ]
  },
  {
   "cell_type": "code",
   "execution_count": null,
   "metadata": {},
   "outputs": [],
   "source": [
    "# Print only the first two rows of the dataframe\n",
    "\n",
    "print(df.head(2))"
   ]
  },
  {
   "cell_type": "code",
   "execution_count": null,
   "metadata": {},
   "outputs": [],
   "source": [
    "# Print the second column\n",
    "\n",
    "df[\"Col2\"]"
   ]
  },
  {
   "cell_type": "code",
   "execution_count": null,
   "metadata": {},
   "outputs": [],
   "source": [
    "# Change the name of the third column from “Col3” to “XYZ”\n",
    "\n",
    "df.rename(columns = { \"Col3\" : \"XYZ\" } , inplace = True)\n",
    "df"
   ]
  },
  {
   "cell_type": "code",
   "execution_count": null,
   "metadata": {},
   "outputs": [],
   "source": [
    "# Add a new column to the dataframe and name it “Sum”\n",
    "\n",
    "df[\"Sum\"] = \"\"\n",
    "df"
   ]
  },
  {
   "cell_type": "code",
   "execution_count": null,
   "metadata": {},
   "outputs": [],
   "source": [
    "# Sum the entries of each row and add the result in the column “Sum”\n",
    "\n",
    "df[\"Sum\"] = df.sum(axis=1)\n",
    "df"
   ]
  },
  {
   "cell_type": "code",
   "execution_count": 48,
   "metadata": {},
   "outputs": [],
   "source": [
    "# End Task 5:"
   ]
  },
  {
   "cell_type": "code",
   "execution_count": 49,
   "metadata": {},
   "outputs": [],
   "source": [
    "# Start Task 6:"
   ]
  },
  {
   "cell_type": "code",
   "execution_count": 3,
   "metadata": {},
   "outputs": [],
   "source": [
    "# Importing Libraries\n",
    "\n",
    "import numpy as np\n",
    "import matplotlib\n",
    "from matplotlib import image as mpimg\n",
    "from matplotlib import pyplot as plt"
   ]
  },
  {
   "cell_type": "code",
   "execution_count": 4,
   "metadata": {},
   "outputs": [],
   "source": [
    "# *** Loading an Image ***\n",
    "\n",
    "# Read image from file to memory:\n",
    "img = np.array(mpimg.imread(\"F:/Python/flo.jpg\"))\n",
    "\n",
    "# To manipulate the image\n",
    "img.setflags(write=0)"
   ]
  },
  {
   "cell_type": "code",
   "execution_count": 5,
   "metadata": {},
   "outputs": [],
   "source": [
    "# Tasks"
   ]
  },
  {
   "cell_type": "code",
   "execution_count": null,
   "metadata": {},
   "outputs": [],
   "source": [
    "# To display the image:\n",
    "plt.imshow(img)"
   ]
  },
  {
   "cell_type": "code",
   "execution_count": null,
   "metadata": {},
   "outputs": [],
   "source": [
    "# Crop the image\n",
    "\n",
    "crop = img[90:250, 180:350]\n",
    "\n",
    "plt.imshow(crop)"
   ]
  },
  {
   "cell_type": "code",
   "execution_count": null,
   "metadata": {},
   "outputs": [],
   "source": [
    "# Create 50 randomly placed markers on image\n",
    "\n",
    "from matplotlib.lines import Line2D\n",
    "\n",
    "n1 = np.random.uniform(low=0.5, high=img.shape[1], size=(50,))\n",
    "n2 = np.random.uniform(low=0.5, high=img.shape[0], size=(50,))\n",
    " \n",
    "markerindex = np.random.randint(0, len(Line2D.markers), 50)\n",
    "plt.imshow(img, zorder=0)\n",
    " \n",
    "for x, y in enumerate(Line2D.markers):\n",
    "    i = (markerindex == x)\n",
    "    plt.scatter(n1[i], n2[i], marker=y)\n",
    " \n",
    "plt.show()"
   ]
  },
  {
   "cell_type": "code",
   "execution_count": null,
   "metadata": {},
   "outputs": [],
   "source": [
    "# Dear Sir,\n",
    "# Still working on color analysis\n",
    "# This assignment took a lot of time but many interesting things are for learning"
   ]
  }
 ],
 "metadata": {
  "interpreter": {
   "hash": "45afa21596b98d38d23d26c4e28396c9dd09793190fc12b99c29b97cce90ec23"
  },
  "kernelspec": {
   "display_name": "Python 3.9.12 ('base')",
   "language": "python",
   "name": "python3"
  },
  "language_info": {
   "codemirror_mode": {
    "name": "ipython",
    "version": 3
   },
   "file_extension": ".py",
   "mimetype": "text/x-python",
   "name": "python",
   "nbconvert_exporter": "python",
   "pygments_lexer": "ipython3",
   "version": "3.9.12"
  },
  "orig_nbformat": 4
 },
 "nbformat": 4,
 "nbformat_minor": 2
}
