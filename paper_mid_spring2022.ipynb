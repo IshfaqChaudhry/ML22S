{
 "cells": [
  {
   "cell_type": "code",
   "execution_count": null,
   "metadata": {},
   "outputs": [],
   "source": [
    "# paper_mid_spring2022"
   ]
  },
  {
   "cell_type": "code",
   "execution_count": null,
   "metadata": {},
   "outputs": [],
   "source": [
    "# Question No. 01"
   ]
  },
  {
   "cell_type": "code",
   "execution_count": null,
   "metadata": {},
   "outputs": [],
   "source": [
    "# Part (a)\n",
    "\n",
    "name = \"\\t       Muhammad Abdullah        \\n\"\n",
    "print(name)\n",
    "print(name.lstrip())\n",
    "print(name.rstrip())\n",
    "print(name.strip())"
   ]
  },
  {
   "cell_type": "code",
   "execution_count": null,
   "metadata": {},
   "outputs": [],
   "source": [
    "# Part (b)\n",
    "\n",
    "transportation = ['bike', 'car', 'bus']\n",
    "print(\"I would like to own a\", transportation[0])\n",
    "print(\"I would like to own a\", transportation[1])\n",
    "print(\"I would like to own a\", transportation[2])"
   ]
  },
  {
   "cell_type": "code",
   "execution_count": null,
   "metadata": {},
   "outputs": [],
   "source": [
    "\n",
    "# Part (c)\n",
    "\n",
    "animals = ['dog', 'cat', 'horse']\n",
    "\n",
    "for i in animals:\n",
    "    print(i.title())\n",
    "\n",
    "for i in animals:\n",
    "    print(\"A\", i , \"would make a great pet\")\n",
    "\n",
    "print(\"\\\"These are very common pets\\\"\")"
   ]
  },
  {
   "cell_type": "code",
   "execution_count": null,
   "metadata": {},
   "outputs": [],
   "source": [
    "\n",
    "# Part (d)\n",
    "\n",
    "places = ['makkah','madina','tokyo', 'islamabad', 'multan']\n",
    "print(\"The list in original order\")\n",
    "print(places)\n",
    "\n",
    "print(\"\\nSorted List without modifying the original list.\")\n",
    "print(sorted(places))\n",
    "print(\"The original list remains the same.\")\n",
    "print(places)\n",
    "\n",
    "print(\"\\nIn reverse alphabetical order without changing the order of original list.\")\n",
    "print(sorted(places, reverse=True))\n",
    "print(\"The original list remains the same.\")\n",
    "print(places)\n",
    "\n",
    "places.reverse()\n",
    "print(\"\\nThe Original list has been in reverse order.\")\n",
    "print(places)"
   ]
  }
 ],
 "metadata": {
  "interpreter": {
   "hash": "45afa21596b98d38d23d26c4e28396c9dd09793190fc12b99c29b97cce90ec23"
  },
  "kernelspec": {
   "display_name": "Python 3.9.12 ('base')",
   "language": "python",
   "name": "python3"
  },
  "language_info": {
   "codemirror_mode": {
    "name": "ipython",
    "version": 3
   },
   "file_extension": ".py",
   "mimetype": "text/x-python",
   "name": "python",
   "nbconvert_exporter": "python",
   "pygments_lexer": "ipython3",
   "version": "3.9.12"
  },
  "orig_nbformat": 4
 },
 "nbformat": 4,
 "nbformat_minor": 2
}
