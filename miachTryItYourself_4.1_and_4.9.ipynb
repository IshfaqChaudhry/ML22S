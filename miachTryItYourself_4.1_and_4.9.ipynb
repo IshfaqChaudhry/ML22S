{
 "cells": [
  {
   "cell_type": "code",
   "execution_count": 2,
   "metadata": {},
   "outputs": [
    {
     "name": "stdout",
     "output_type": "stream",
     "text": [
      "* Tomato Mint\n",
      "* Veggie Cheese\n",
      "* Chicken Fajita\n",
      "I like to eat Tomato Mint\n",
      "I like to eat Veggie Cheese\n",
      "I like to eat Chicken Fajita\n",
      "* Tomato Mint\n",
      "* Veggie Cheese\n",
      "* Chicken Fajita\n",
      "In fact I never ate a pizza!\n"
     ]
    }
   ],
   "source": [
    "# 4-1 Pizzas:\n",
    "\n",
    "favorite_pizzas = [\"tomato mint\" , \"veggie cheese\" , \"chicken fajita\"]\n",
    "for pizza in favorite_pizzas:\n",
    "    print(\"*\", pizza.title())\n",
    "\n",
    "for pizza in favorite_pizzas:\n",
    "    print(\"I like to eat \" + pizza.title())\n",
    "\n",
    "for pizza in favorite_pizzas:\n",
    "    print(\"*\", pizza.title())\n",
    "\n",
    "print(\"In fact I never ate a pizza!\")"
   ]
  },
  {
   "cell_type": "code",
   "execution_count": 8,
   "metadata": {},
   "outputs": [
    {
     "name": "stdout",
     "output_type": "stream",
     "text": [
      "[1, 8, 27, 64, 125, 216, 343, 512, 729, 1000]\n"
     ]
    }
   ],
   "source": [
    "# 4-9 Cube Comprehension:\n",
    "\n",
    "cube = [num**3 for num in range(1,11)]\n",
    "print(cube) \n"
   ]
  }
 ],
 "metadata": {
  "interpreter": {
   "hash": "2b733ca88e76c46f418b067b04f40e189149b9dc874c4559ccb981d4e54da0d8"
  },
  "kernelspec": {
   "display_name": "Python 3.10.0 64-bit",
   "language": "python",
   "name": "python3"
  },
  "language_info": {
   "codemirror_mode": {
    "name": "ipython",
    "version": 3
   },
   "file_extension": ".py",
   "mimetype": "text/x-python",
   "name": "python",
   "nbconvert_exporter": "python",
   "pygments_lexer": "ipython3",
   "version": "3.10.0"
  },
  "orig_nbformat": 4
 },
 "nbformat": 4,
 "nbformat_minor": 2
}
