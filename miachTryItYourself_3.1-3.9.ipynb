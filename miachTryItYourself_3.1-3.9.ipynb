{
 "cells": [
  {
   "cell_type": "code",
   "execution_count": 1,
   "metadata": {},
   "outputs": [
    {
     "name": "stdout",
     "output_type": "stream",
     "text": [
      "saeed\n",
      "ali\n",
      "umer\n",
      "kaleem\n",
      "aashee\n"
     ]
    }
   ],
   "source": [
    "# 3-1 Names:\n",
    "\n",
    "names = ['saeed', 'ali', 'umer', 'kaleem', 'aashee']\n",
    "print(names[0])\n",
    "print(names[1])\n",
    "print(names[2])\n",
    "print(names[3])\n",
    "print(names[4])"
   ]
  },
  {
   "cell_type": "code",
   "execution_count": 2,
   "metadata": {},
   "outputs": [
    {
     "name": "stdout",
     "output_type": "stream",
     "text": [
      "How are you?  saeed\n",
      "How are you?  ali\n",
      "How are you?  umer\n",
      "How are you?  kaleem\n",
      "How are you?  aashee\n"
     ]
    }
   ],
   "source": [
    "# 3-2 Greetings:\n",
    "\n",
    "names = ['saeed', 'ali', 'umer', 'kaleem', 'aashee']\n",
    "message = (\"How are you? \")\n",
    "print(message, names[0])\n",
    "print(message, names[1])\n",
    "print(message, names[2])\n",
    "print(message, names[3])\n",
    "print(message, names[4])"
   ]
  },
  {
   "cell_type": "code",
   "execution_count": 3,
   "metadata": {},
   "outputs": [
    {
     "name": "stdout",
     "output_type": "stream",
     "text": [
      "Bicycle was my childhood dream.\n",
      "Bike is a need of the time.\n",
      "Car is my future dream.\n"
     ]
    }
   ],
   "source": [
    "# 3-3 Your Own List:\n",
    "\n",
    "favorite_transport = ['Bicycle', 'Bike', 'Car']\n",
    "print(favorite_transport[0] , \"was my childhood dream.\")\n",
    "print(favorite_transport[1] , \"is a need of the time.\")\n",
    "print(favorite_transport[2] , \"is my future dream.\")"
   ]
  },
  {
   "cell_type": "code",
   "execution_count": 4,
   "metadata": {},
   "outputs": [
    {
     "name": "stdout",
     "output_type": "stream",
     "text": [
      " Mr. M. Mohsin Raza \n",
      " Assalam o Alaikum! \n",
      " Please join me at dinner on Sunday night. \n",
      "\n",
      " Mr. Ghulam Murtaza \n",
      " Assalam o Alaikum! \n",
      " Please join me at dinner on Sunday night. \n",
      "\n",
      " Mr. Muhammad Bilal \n",
      " Assalam o Alaikum! \n",
      " Please join me at dinner on Sunday night. \n",
      "\n"
     ]
    }
   ],
   "source": [
    "# 3-4 Guest List:\n",
    "\n",
    "guest_list = ['M. Mohsin Raza' , 'Ghulam Murtaza' , 'Muhammad Bilal']\n",
    "greetings = \"Assalam o Alaikum!\"\n",
    "message = \"Please join me at dinner on Sunday night.\"\n",
    "print(\" Mr.\" , guest_list[0] ,\"\\n\" , greetings , \"\\n\" , message , \"\\n\")\n",
    "print(\" Mr.\" , guest_list[1] ,\"\\n\" , greetings , \"\\n\" , message , \"\\n\")\n",
    "print(\" Mr.\" , guest_list[2] ,\"\\n\" , greetings , \"\\n\" , message , \"\\n\")"
   ]
  },
  {
   "cell_type": "code",
   "execution_count": 5,
   "metadata": {},
   "outputs": [
    {
     "name": "stdout",
     "output_type": "stream",
     "text": [
      "Ghulam Murtaza is not coming.\n",
      "['Mohsin Raza', 'Muhammad Bilal']\n",
      "Add Umair Malik in place of Ghulam Murtaza.\n",
      "['Mohsin Raza', 'Umair Malik', 'Muhammad Bilal']\n",
      "\n",
      " Mr. Mohsin Raza \n",
      " Assalam o Alaikum! \n",
      " Please join me at dinner on Sunday night.\n",
      "\n",
      " Mr. Umair Malik \n",
      " Assalam o Alaikum! \n",
      " Please join me at dinner on Sunday night.\n",
      "\n",
      " Mr. Muhammad Bilal \n",
      " Assalam o Alaikum! \n",
      " Please join me at dinner on Sunday night.\n"
     ]
    }
   ],
   "source": [
    "# 3-5 Changing Guest List:\n",
    "\n",
    "guest_list = ['Mohsin Raza' , 'Ghulam Murtaza' , 'Muhammad Bilal']\n",
    "greetings = \"Assalam o Alaikum!\"\n",
    "message = \"Please join me at dinner on Sunday night.\"\n",
    "\n",
    "print(\"Ghulam Murtaza is not coming.\")\n",
    "del guest_list [1]\n",
    "print(guest_list)\n",
    "\n",
    "print(\"Add Umair Malik in place of Ghulam Murtaza.\")\n",
    "guest_list.insert(1,\"Umair Malik\")\n",
    "\n",
    "print(guest_list)\n",
    "\n",
    "print(\"\\n Mr.\" , guest_list[0] ,\"\\n\" , greetings , \"\\n\" , message)\n",
    "print(\"\\n Mr.\" , guest_list[1] ,\"\\n\" , greetings , \"\\n\" , message)\n",
    "print(\"\\n Mr.\" , guest_list[2] ,\"\\n\" , greetings , \"\\n\" , message)"
   ]
  },
  {
   "cell_type": "code",
   "execution_count": 6,
   "metadata": {},
   "outputs": [
    {
     "name": "stdout",
     "output_type": "stream",
     "text": [
      "Hi guys, I found a bigger dinner table.\n",
      "\n",
      "['Umair Malik', 'Abdul Wahab', 'Mohsin Raza', 'Ghulam Murtaza', 'Muhammad Bilal', 'unknown']\n",
      "\n",
      " Mr. Umair Malik \n",
      " Assalam o Alaikum! \n",
      " Please join me at dinner on Sunday night.\n",
      "\n",
      " Mr. Abdul Wahab \n",
      " Assalam o Alaikum! \n",
      " Please join me at dinner on Sunday night.\n",
      "\n",
      " Mr. Mohsin Raza \n",
      " Assalam o Alaikum! \n",
      " Please join me at dinner on Sunday night.\n",
      "\n",
      " Mr. Ghulam Murtaza \n",
      " Assalam o Alaikum! \n",
      " Please join me at dinner on Sunday night.\n",
      "\n",
      " Mr. Muhammad Bilal \n",
      " Assalam o Alaikum! \n",
      " Please join me at dinner on Sunday night.\n",
      "\n",
      " Mr. unknown \n",
      " Assalam o Alaikum! \n",
      " Please join me at dinner on Sunday night.\n"
     ]
    }
   ],
   "source": [
    "# 3-6 More Guests:\n",
    "\n",
    "guest_list = ['Mohsin Raza' , 'Ghulam Murtaza' , 'Muhammad Bilal']\n",
    "greetings = \"Assalam o Alaikum!\"\n",
    "message = \"Please join me at dinner on Sunday night.\"\n",
    "\n",
    "print(\"Hi guys, I found a bigger dinner table.\\n\")\n",
    "\n",
    "guest_list.insert(0,\"Umair Malik\")\n",
    "guest_list.insert(1,\"Abdul Wahab\")\n",
    "guest_list.append(\"unknown\")\n",
    "\n",
    "print(guest_list)\n",
    "\n",
    "print(\"\\n Mr.\" , guest_list[0] ,\"\\n\" , greetings , \"\\n\" , message)\n",
    "print(\"\\n Mr.\" , guest_list[1] ,\"\\n\" , greetings , \"\\n\" , message)\n",
    "print(\"\\n Mr.\" , guest_list[2] ,\"\\n\" , greetings , \"\\n\" , message)\n",
    "print(\"\\n Mr.\" , guest_list[3] ,\"\\n\" , greetings , \"\\n\" , message)\n",
    "print(\"\\n Mr.\" , guest_list[4] ,\"\\n\" , greetings , \"\\n\" , message)\n",
    "print(\"\\n Mr.\" , guest_list[5] ,\"\\n\" , greetings , \"\\n\" , message)"
   ]
  },
  {
   "cell_type": "code",
   "execution_count": 7,
   "metadata": {},
   "outputs": [
    {
     "name": "stdout",
     "output_type": "stream",
     "text": [
      "I can invite only two people for dinner.\n",
      "I'm sorry Mr. Mohsin Raza, I could not invite you at dinner.\n",
      "I'm sorry Mr. Abdul Wahab, I could not invite you at dinner.\n",
      "I'm sorry Mr. Umair Malik, I could not invite you at dinner.\n",
      "Mr. Ghulam Murtaza You are still invited.\n",
      "Mr. Muhammad Bilal You are still invited.\n",
      "[]\n"
     ]
    }
   ],
   "source": [
    "# 3-7 Shrinking Guest List:\n",
    "\n",
    "guest_list = ['Mohsin Raza' , 'Abdul Wahab' , 'Umair Malik' , 'Ghulam Murtaza' , 'Muhammad Bilal']\n",
    "greetings = \"Assalam o Alaikum!\"\n",
    "message = \"Please join me at dinner on Sunday night.\"\n",
    "\n",
    "print(\"I can invite only two people for dinner.\")\n",
    "\n",
    "popped0 = guest_list.pop(0)\n",
    "popped1 = guest_list.pop(0)\n",
    "popped2 = guest_list.pop(0)\n",
    "\n",
    "print(\"I'm sorry Mr.\", popped0 + \",\" , \"I could not invite you at dinner.\")\n",
    "print(\"I'm sorry Mr.\", popped1 + \",\" , \"I could not invite you at dinner.\")\n",
    "print(\"I'm sorry Mr.\", popped2 + \",\" , \"I could not invite you at dinner.\")\n",
    "\n",
    "print(\"Mr.\" , guest_list[0] , \"You are still invited.\")\n",
    "print(\"Mr.\" , guest_list[1] , \"You are still invited.\")\n",
    "\n",
    "del guest_list [0]\n",
    "del guest_list [0]\n",
    "print(guest_list)"
   ]
  },
  {
   "cell_type": "code",
   "execution_count": 8,
   "metadata": {},
   "outputs": [
    {
     "name": "stdout",
     "output_type": "stream",
     "text": [
      "['Murree', 'Abbatabad', 'Naran', 'Gilgit', 'Kashmir']\n",
      "\n",
      "\n",
      "['Abbatabad', 'Gilgit', 'Kashmir', 'Murree', 'Naran']\n",
      "['Murree', 'Abbatabad', 'Naran', 'Gilgit', 'Kashmir']\n",
      "['Naran', 'Murree', 'Kashmir', 'Gilgit', 'Abbatabad']\n",
      "['Murree', 'Abbatabad', 'Naran', 'Gilgit', 'Kashmir']\n",
      "\n",
      "\n",
      "['Kashmir', 'Gilgit', 'Naran', 'Abbatabad', 'Murree']\n",
      "['Murree', 'Abbatabad', 'Naran', 'Gilgit', 'Kashmir']\n",
      "\n",
      "\n",
      "['Abbatabad', 'Gilgit', 'Kashmir', 'Murree', 'Naran']\n",
      "['Naran', 'Murree', 'Kashmir', 'Gilgit', 'Abbatabad']\n"
     ]
    }
   ],
   "source": [
    "# 3-8 Seeing the World:\n",
    "\n",
    "places = ['Murree', 'Abbatabad', 'Naran', 'Gilgit', 'Kashmir']\n",
    "\n",
    "print(places)\n",
    "print(\"\\n\")\n",
    "\n",
    "print(sorted(places))\n",
    "print(places)\n",
    "print(sorted(places, reverse = True))\n",
    "print(places)\n",
    "print(\"\\n\")\n",
    "\n",
    "places.reverse()\n",
    "print(places)\n",
    "places.reverse()\n",
    "print(places)\n",
    "print(\"\\n\")\n",
    "\n",
    "places.sort()\n",
    "print(places)\n",
    "places.sort(reverse=True)\n",
    "print(places)\n"
   ]
  },
  {
   "cell_type": "code",
   "execution_count": 9,
   "metadata": {},
   "outputs": [
    {
     "name": "stdout",
     "output_type": "stream",
     "text": [
      "The number of people I invited to dinner = 5\n"
     ]
    }
   ],
   "source": [
    "# 3-9 Dinner Guests:\n",
    "\n",
    "guest_list = ['Mohsin Raza' , 'Abdul Wahab' , 'Umair Malik' , 'Ghulam Murtaza' , 'Muhammad Bilal']\n",
    "\n",
    "print(\"The number of people I invited to dinner =\" , len(guest_list))"
   ]
  }
 ],
 "metadata": {
  "interpreter": {
   "hash": "2b733ca88e76c46f418b067b04f40e189149b9dc874c4559ccb981d4e54da0d8"
  },
  "kernelspec": {
   "display_name": "Python 3.10.0 64-bit",
   "language": "python",
   "name": "python3"
  },
  "language_info": {
   "codemirror_mode": {
    "name": "ipython",
    "version": 3
   },
   "file_extension": ".py",
   "mimetype": "text/x-python",
   "name": "python",
   "nbconvert_exporter": "python",
   "pygments_lexer": "ipython3",
   "version": "3.10.0"
  },
  "orig_nbformat": 4
 },
 "nbformat": 4,
 "nbformat_minor": 2
}
